{
  "nbformat": 4,
  "nbformat_minor": 0,
  "metadata": {
    "colab": {
      "provenance": [],
      "toc_visible": true
    },
    "kernelspec": {
      "name": "python3",
      "display_name": "Python 3"
    },
    "language_info": {
      "name": "python"
    }
  },
  "cells": [
    {
      "cell_type": "markdown",
      "source": [
        "#Pertemuan 2"
      ],
      "metadata": {
        "id": "NwNvvojsfWPW"
      }
    },
    {
      "cell_type": "markdown",
      "source": [
        "## Library\n",
        "* install Library\n",
        "* Deklarasi Library\n",
        "* Library bisa disebut kumpulan kode yang dapat digunakan berulang kali dalam program yang berbeda\n",
        "* https://www.geeksforgeeks.org/libraries-in-pythone/\n"
      ],
      "metadata": {
        "id": "qyHaPBz-fglm"
      }
    },
    {
      "cell_type": "code",
      "source": [
        "import numpy as np\n",
        "import pandas as pd\n",
        "import scipy\n",
        "from scipy.spatial.distance import cityblock, mahalanobis"
      ],
      "metadata": {
        "id": "IESDpXVMg_r_"
      },
      "execution_count": null,
      "outputs": []
    },
    {
      "cell_type": "markdown",
      "source": [
        "## Dataset"
      ],
      "metadata": {
        "id": "MXItpUxghs1O"
      }
    },
    {
      "cell_type": "code",
      "source": [
        "# dataset pertama untu perhitungan manhattan distance dan euclidean distance\n",
        "P1 = np.array((4, 1))\n",
        "P2 = np.array((1, 3))\n",
        "\n",
        "# dataset kedua untuk perhitungan mahalanobis distance\n",
        "X = np.array([[7.0, 165, 5],[7.4, 160, 5],[7.1, 170, 4],[7.3, 150, 5],[7.2, 160, 3]])"
      ],
      "metadata": {
        "id": "oEPoJ-pSiFpg"
      },
      "execution_count": null,
      "outputs": []
    },
    {
      "cell_type": "code",
      "source": [
        "# info dataset\n",
        "print(X.shape)\n",
        "print(X.ndim)\n",
        "print(X)"
      ],
      "metadata": {
        "colab": {
          "base_uri": "https://localhost:8080/"
        },
        "id": "cZU_fBf3jS7P",
        "outputId": "5f89c39e-ba24-495b-e26f-16c880a2ca07"
      },
      "execution_count": null,
      "outputs": [
        {
          "output_type": "stream",
          "name": "stdout",
          "text": [
            "(5, 3)\n",
            "2\n",
            "[[  7.  165.    5. ]\n",
            " [  7.4 160.    5. ]\n",
            " [  7.1 170.    4. ]\n",
            " [  7.3 150.    5. ]\n",
            " [  7.2 160.    3. ]]\n"
          ]
        }
      ]
    },
    {
      "cell_type": "markdown",
      "source": [
        "# Calculate Distance"
      ],
      "metadata": {
        "id": "H2Qo7kHEkmX9"
      }
    },
    {
      "cell_type": "markdown",
      "source": [
        "## Manhattan Distance\n",
        "Perhitungan jarak berdasarkan arah antara objek vektor"
      ],
      "metadata": {
        "id": "PQEfKM9tkwIk"
      }
    },
    {
      "cell_type": "code",
      "source": [
        "mht_dist = cityblock(P1,P2)\n",
        "print(mht_dist)"
      ],
      "metadata": {
        "colab": {
          "base_uri": "https://localhost:8080/"
        },
        "id": "P5k7uJyAk9BT",
        "outputId": "d7b27d34-af76-45df-ddcf-8398740003e5"
      },
      "execution_count": null,
      "outputs": [
        {
          "output_type": "stream",
          "name": "stdout",
          "text": [
            "5\n"
          ]
        }
      ]
    },
    {
      "cell_type": "markdown",
      "source": [
        "## Eculidean Distance\n",
        "Perhitungan jarak berdasarkan teori pytagoras"
      ],
      "metadata": {
        "id": "6PH1Ft3llP9X"
      }
    },
    {
      "cell_type": "code",
      "source": [
        "# hitung selisih antara dua vectors\n",
        "temp = P1-P2\n",
        "\n",
        "# gunakan formula eculidean\n",
        "eculid_dist = np.sqrt(np.dot(temp.T, temp))\n",
        "print(np.dot(temp.T, temp))\n",
        "print(eculid_dist)"
      ],
      "metadata": {
        "colab": {
          "base_uri": "https://localhost:8080/"
        },
        "id": "f_6T_yAAmMZ3",
        "outputId": "aaf52d27-0cdc-44d3-9c28-9ed6ff116fdd"
      },
      "execution_count": null,
      "outputs": [
        {
          "output_type": "stream",
          "name": "stdout",
          "text": [
            "13\n",
            "3.605551275463989\n"
          ]
        }
      ]
    },
    {
      "cell_type": "markdown",
      "source": [
        "## Mahalanobis Distance\n",
        "Perhitungan jarak antara sekumpulan data(klaster)"
      ],
      "metadata": {
        "id": "AevMP7xpnRio"
      }
    },
    {
      "cell_type": "code",
      "source": [
        "# hitung kovarians dan inverse kovarians dari dataset\n",
        "cov = np.cov(X.T)\n",
        "inv_cov = np.linalg.inv(cov)\n",
        "\n",
        "# dua data baru dalam dataset\n",
        "x1 = np.array([7.1, 145, 3])\n",
        "x2 = np.array([6.0, 100, 5])\n",
        "\n",
        "#hitung jarak mahalanobis antara dua kumpulan titik/cluster\n",
        "mhlnbs_dist = mahalanobis(x1, x2, inv_cov)\n",
        "print(mhlnbs_dist)"
      ],
      "metadata": {
        "colab": {
          "base_uri": "https://localhost:8080/"
        },
        "id": "DHFP3h-joDhI",
        "outputId": "292f6b19-9a93-4b53-894b-e513363a5abd"
      },
      "execution_count": null,
      "outputs": [
        {
          "output_type": "stream",
          "name": "stdout",
          "text": [
            "15.370699331286659\n"
          ]
        }
      ]
    }
  ]
}